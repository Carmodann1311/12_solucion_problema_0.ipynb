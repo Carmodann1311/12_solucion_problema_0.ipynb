{
  "nbformat": 4,
  "nbformat_minor": 0,
  "metadata": {
    "colab": {
      "provenance": [],
      "authorship_tag": "ABX9TyNPFzRpE3rkSjufUo3PrD+w",
      "include_colab_link": true
    },
    "kernelspec": {
      "name": "python3",
      "display_name": "Python 3"
    },
    "language_info": {
      "name": "python"
    }
  },
  "cells": [
    {
      "cell_type": "markdown",
      "metadata": {
        "id": "view-in-github",
        "colab_type": "text"
      },
      "source": [
        "<a href=\"https://colab.research.google.com/github/Carmodann1311/12_solucion_problema_0.ipynb/blob/main/12_solucion_problema_12.ipynb\" target=\"_parent\"><img src=\"https://colab.research.google.com/assets/colab-badge.svg\" alt=\"Open In Colab\"/></a>"
      ]
    },
    {
      "cell_type": "markdown",
      "source": [
        "**Actualizado:** octubre/2023\n",
        "\n",
        "**Autor:** Roberto Daniel Rodríguez Carmona\n",
        "\n",
        "**Github:** Carmodann1311\n",
        "\n"
      ],
      "metadata": {
        "id": "s0yWcrvaObju"
      }
    },
    {
      "cell_type": "markdown",
      "source": [
        "**TEMA**\n",
        "Manipulación de fechas"
      ],
      "metadata": {
        "id": "nvOhCbU_M0lO"
      }
    },
    {
      "cell_type": "markdown",
      "source": [
        "Escribir una función que calcule y muestre en consola cuantos días faltan para el cumpleaños de un usuario, la fecha de nacimiento es dada por el usuario."
      ],
      "metadata": {
        "id": "fco8-fXqM10_"
      }
    },
    {
      "cell_type": "markdown",
      "source": [
        "**INTRODUCCION**"
      ],
      "metadata": {
        "id": "ImImuTG-M-T_"
      }
    },
    {
      "cell_type": "markdown",
      "source": [],
      "metadata": {
        "id": "5k2YzfT3O4WX"
      }
    },
    {
      "cell_type": "markdown",
      "source": [
        "**Codigo**"
      ],
      "metadata": {
        "id": "dYX5nsJSNFAQ"
      }
    },
    {
      "cell_type": "code",
      "source": [
        "import datetime\n",
        "\n",
        "def calcular_dias_faltantes():\n",
        "    hoy = datetime.date.today()\n",
        "    año_actual = hoy.year\n",
        "\n",
        "    dia_cumpleaños = int(input(\"Ingresa el día de tu cumpleaños: \"))\n",
        "    mes_cumpleaños = int(input(\"Ingresa el mes de tu cumpleaños: \"))\n",
        "\n",
        "    cumpleaños = datetime.date(año_actual, mes_cumpleaños, dia_cumpleaños)\n",
        "\n",
        "    if cumpleaños < hoy:\n",
        "        cumpleaños = datetime.date(año_actual + 1, mes_cumpleaños, dia_cumpleaños)\n",
        "\n",
        "    dias_faltantes = (cumpleaños - hoy).days\n",
        "\n",
        "    return dias_faltantes\n",
        "\n",
        "dias_faltantes = calcular_dias_faltantes()\n",
        "print(\"Faltan {} días para tu cumpleaños\".format(dias_faltantes))"
      ],
      "metadata": {
        "id": "Y1UC9q5CNGfv",
        "outputId": "958b2fac-44b6-4012-9fc8-bd5f5de07994",
        "colab": {
          "base_uri": "https://localhost:8080/"
        }
      },
      "execution_count": null,
      "outputs": [
        {
          "output_type": "stream",
          "name": "stdout",
          "text": [
            "Ingresa el día de tu cumpleaños: 13\n",
            "Ingresa el mes de tu cumpleaños: 11\n",
            "Faltan 20 días para tu cumpleaños\n"
          ]
        }
      ]
    },
    {
      "cell_type": "markdown",
      "source": [
        "**BIBLIOGRAFIA**"
      ],
      "metadata": {
        "id": "wqkDUCEikpeY"
      }
    },
    {
      "cell_type": "markdown",
      "source": [
        "Roberto Daniel Rodriguez Carmona 2023 Manipulacion de fechas\n"
      ],
      "metadata": {
        "id": "XxXHDDdukyEP"
      }
    }
  ]
}