{
  "nbformat": 4,
  "nbformat_minor": 0,
  "metadata": {
    "colab": {
      "provenance": [],
      "authorship_tag": "ABX9TyPp4iWGZdUt1DD2opeYmZl6",
      "include_colab_link": true
    },
    "kernelspec": {
      "name": "python3",
      "display_name": "Python 3"
    },
    "language_info": {
      "name": "python"
    }
  },
  "cells": [
    {
      "cell_type": "markdown",
      "metadata": {
        "id": "view-in-github",
        "colab_type": "text"
      },
      "source": [
        "<a href=\"https://colab.research.google.com/github/Carmodann1311/12_solucion_problema_0.ipynb/blob/main/12_solucion_problema_12.ipynb\" target=\"_parent\"><img src=\"https://colab.research.google.com/assets/colab-badge.svg\" alt=\"Open In Colab\"/></a>"
      ]
    },
    {
      "cell_type": "markdown",
      "source": [
        "**Actualizado:** Última fecha en la que se ejecutó el código Python, este dato debe estar en formato Nombre del Mes-Año Obligatorio\n",
        "\n",
        "**Autor:** Nombre del autor Opcional\n",
        "\n",
        "**Github:** Github del autor Opcional\n",
        "\n",
        "Los campos Autor y Github son opcionales, solo sí el autor desea colocarlos."
      ],
      "metadata": {
        "id": "s0yWcrvaObju"
      }
    },
    {
      "cell_type": "markdown",
      "source": [
        "**INTRODUCCION**"
      ],
      "metadata": {
        "id": "ImImuTG-M-T_"
      }
    },
    {
      "cell_type": "markdown",
      "source": [],
      "metadata": {
        "id": "5k2YzfT3O4WX"
      }
    },
    {
      "cell_type": "markdown",
      "source": [
        "**TEMA**\n",
        "Manipulación de fechas"
      ],
      "metadata": {
        "id": "nvOhCbU_M0lO"
      }
    },
    {
      "cell_type": "markdown",
      "source": [
        "Escribir una función que calcule y muestre en consola cuantos días faltan para el cumpleaños de un usuario, la fecha de nacimiento es dada por el usuario."
      ],
      "metadata": {
        "id": "fco8-fXqM10_"
      }
    },
    {
      "cell_type": "markdown",
      "source": [
        "**Codigo**"
      ],
      "metadata": {
        "id": "dYX5nsJSNFAQ"
      }
    },
    {
      "cell_type": "code",
      "source": [],
      "metadata": {
        "id": "Y1UC9q5CNGfv"
      },
      "execution_count": null,
      "outputs": []
    }
  ]
}